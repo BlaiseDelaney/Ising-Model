{
 "cells": [
  {
   "cell_type": "markdown",
   "metadata": {},
   "source": [
    "# The 2D Ising Model \n"
   ]
  },
  {
   "cell_type": "markdown",
   "metadata": {},
   "source": [
    "This is the IPython notebook compiled by me, Blaise Delaney (Junior Sophister Theoretical Physics, ID: 12313570), to tackle the tasks set by Dr. Thomas Archer for the course PY3C01, Trinity College, University of Dublin."
   ]
  },
  {
   "cell_type": "markdown",
   "metadata": {},
   "source": [
    "Firstly, we need to create a code cell to enable all the relevant imports. This shall be updated progressively to tacl the different sections of the problem set."
   ]
  },
  {
   "cell_type": "code",
   "execution_count": 2,
   "metadata": {
    "collapsed": false
   },
   "outputs": [],
   "source": [
    "from __future__ import division #necessary to perform division of ints effectively cast into floats before division\n",
    "\n",
    "import math\n",
    "import numpy as np\n",
    "import matplotlib.pyplot as plt\n",
    "import numpy.random as rand\n",
    "\n",
    "import IsingClass #module written to carry out the required calculations (metropolis, neighbours, energy, magnetization, etc.)\n",
    "\n",
    "#ipython, plot in notebook\n",
    "%matplotlib inline "
   ]
  },
  {
   "cell_type": "markdown",
   "metadata": {},
   "source": [
    "Now, onto the random spin configuration. This can be up or down, so we shall select a grid with the following conditions: \n",
    "\n",
    "- spin up $\\uparrow$ $=1$\n",
    "- spin down $\\downarrow$ $=-1$\n",
    "\n",
    "\n"
   ]
  },
  {
   "cell_type": "markdown",
   "metadata": {
    "collapsed": true
   },
   "source": [
    "It is probably a good idea to take a object-oriented approach. Define a class <span style=\"color: crimson\"> Ising() </span>. This has been defined separately in the model IsingClass.py. Functions are imported accrodingly."
   ]
  },
  {
   "cell_type": "code",
   "execution_count": 2,
   "metadata": {
    "collapsed": true
   },
   "outputs": [],
   "source": [
    "#Global parameters\n",
    "\n",
    "N = 50 #grid dimensions\n",
    "J = 1.0 #coupling in the hamiltonian\n",
    "h = 0.0 #external magnetic field"
   ]
  },
  {
   "cell_type": "markdown",
   "metadata": {},
   "source": [
    "The Hamiltonian is \n",
    "\n",
    "$$H = -J  \\sum_{<i,j>}  S_i \\cdot S_j - h \\sum_i S_i$$\n",
    "\n",
    "We want to investihate the behaviour of a <span style=\"color: crimson\"> ferromagnet </span>. That is, for $J > 0$, we expect an orderly spin lattice arrangement, disrupted for temperatures equal or greater than $T_c$, the Curie temperature. In this regime, we expect paramagnetism."
   ]
  },
  {
   "cell_type": "markdown",
   "metadata": {},
   "source": [
    "Energy computations: the energy (Hamiltonian, isolated system) at of a spin site $(h = 0)$ is given by eq. (1)\n",
    "\n",
    "$$ H_{i,j} = - J S_{i,j} \\cdot (\\sum_{nn} S)$$    \n",
    "\n",
    "the Hamiltonian associated with the spin-flipped state (single spin flip dynamics are assumed to allow for a transition from a state in to another) is simple eq. (2)\n",
    "\n",
    "$$H_{i,j} =  J S_{i,j} \\cdot (\\sum_{nn} S) $$\n",
    "\n",
    "Thus, given that $\\Delta E = (2) - (1)$\n",
    "\n",
    "$$\\Rightarrow \\Delta E = 2 J S_{i,j}\\cdot(\\sum_{nn} S)$$\n",
    "\n",
    "where is $\\Delta E < 0$, flipping the spin lowers the energy of the system. Metropolis-Hastings can be then applied.\n"
   ]
  },
  {
   "cell_type": "code",
   "execution_count": 3,
   "metadata": {
    "collapsed": false
   },
   "outputs": [],
   "source": [
    "model = IsingClass.Ising(N,J,h) #constructor"
   ]
  },
  {
   "cell_type": "markdown",
   "metadata": {},
   "source": [
    "Now run the main simulation using the class Ising( ). Allow for the system to achieve equilibrium after a given relaxation time then collect the statistics. The physical observables are obtained normalising dividing by the iterations to collect the statistics and by the total spin sites. \n",
    "\n",
    "Focus on the following:\n",
    "\n",
    "- magnetization per site (absolute value)   $|<M>|$\n",
    "- energy per site $E_{site}$\n",
    "- susceptibility $\\chi$\n",
    "- specific heat capacity at constant volume $C_V$"
   ]
  },
  {
   "cell_type": "code",
   "execution_count": 6,
   "metadata": {
    "collapsed": false
   },
   "outputs": [],
   "source": [
    "steps = 3000 #steps for equilibrium\n",
    "temp_steps = 25 #step size for increase in temperature [J/k]\n",
    "\n",
    "kT = np.linspace(1.0,4.0,temp_steps) #temperature values\n",
    "\n",
    "#arrays for future plotting\n",
    "magnetization = np.zeros(temp_steps) \n",
    "Energy = np.zeros(temp_steps)\n",
    "susceptibility = np.zeros(temp_steps)\n",
    "specific_heat = np.zeros(temp_steps)\n",
    "mag_square = np.zeros(temp_steps) \n",
    "e_square = np.zeros(temp_steps) \n",
    "binder = np.zeros(temp_steps)\n",
    "mag_four = np.zeros(temp_steps)\n",
    "\n",
    "for l in range(len(kT)):\n",
    "    temperature = kT[l]\n",
    "    \n",
    "    #initialise observables to zero\n",
    "    M = 0\n",
    "    E = 0\n",
    "    M_sq = 0\n",
    "    E_sq = 0\n",
    "    \n",
    "    M_fth = 0\n",
    "    \n",
    "    #reset to random initial configuration\n",
    "    lattice = model.spin_config()  \n",
    "    \n",
    "    #set out to reach equilibrium\n",
    "    for t in range(steps):\n",
    "        model.metropolis(lattice, temperature)\n",
    "\n",
    "    #collect statistics allowing the system to evolve\n",
    "    stat_steps = int(steps/2) \n",
    "    for k in range(stat_steps):  \n",
    "        \n",
    "        #model.metropolis(lattice, temperature,N,N,J,h) \n",
    "        model.metropolis(lattice, temperature)\n",
    "        \n",
    "        mag = model.mag_per_spin(lattice)\n",
    "        mag2 = model.mag2_per_spin(lattice)\n",
    "        engy = model.energy(lattice)\n",
    "        engy2 = model.energy2(lattice)\n",
    "        \n",
    "        \n",
    "        M += mag\n",
    "        E += engy\n",
    "        M_sq += mag2\n",
    "        E_sq += engy2\n",
    "        \n",
    "        \n",
    "        \n",
    "    #observables, after equilibrium is achieved, normalised by sweeps\n",
    "    magnetization[l] = abs(M)/stat_steps \n",
    "    Energy[l] = E/stat_steps \n",
    "    mag_square[l] = M_sq/stat_steps\n",
    "    e_square[l] = E_sq/stat_steps\n",
    "    \n",
    "    \n",
    "#perform manipulation directly on array instead of loop\n",
    "susceptibility = (mag_square - magnetization**2)/kT\n",
    "specific_heat = (e_square - Energy**2)/(kT**2)"
   ]
  },
  {
   "cell_type": "markdown",
   "metadata": {},
   "source": [
    "Plot the dependence of the physical observables as a function of temperature $[\\frac{J}{k_B}]$"
   ]
  },
  {
   "cell_type": "code",
   "execution_count": 14,
   "metadata": {
    "collapsed": false
   },
   "outputs": [
    {
     "data": {
      "image/png": "[encoded data removed]",
      "text/plain": [
       "<matplotlib.figure.Figure at 0x105c26c10>"
      ]
     },
     "metadata": {},
     "output_type": "display_data"
    }
   ],
   "source": [
    "plt.figure()\n",
    "plt.plot(kT, magnetization, 'ks')\n",
    "\n",
    "plt.rc('text', usetex=True)\n",
    "plt.rc('font', family='serif')\n",
    "\n",
    "#plt.title(\"Average spin site magentization versus temperature\")\n",
    "plt.xlabel(\"$T$ $[J/k_B]$\")\n",
    "plt.ylabel(\"$|<M>|$ $[\\mu]$\")\n",
    "\n",
    "if J == 1.0:\n",
    "    #see if theory matches results (Onsager, 1944)\n",
    "    plt.axvline(2.269, color ='c',linestyle='dashed', label=\"$T_c^{theory} = 2.269$ $[J/k_B]$\")\n",
    "    plt.legend()\n",
    "\n",
    "plt.grid()\n",
    "\n",
    "#plot Onsager's analytical expression\n",
    "T = []\n",
    "Onsager = []\n",
    "T_after = []\n",
    "Onsager_after = []\n",
    "for l in range(len(kT)):\n",
    "    if kT[l] < 2.280:\n",
    "        Onsager.append((1-math.sinh(2*J/kT[l])**(-4))**(1/8))\n",
    "        T.append(kT[l])\n",
    "    else:\n",
    "        T_after.append(kT[l])\n",
    "        Onsager_after.append(0)\n",
    "plt.ylim(-0.01,1)\n",
    "plt.plot(T, Onsager,\"r--\", label = \"$Onsager$\")\n",
    "plt.plot(T_after, Onsager_after,\"r--\")\n",
    "plt.legend()\n",
    "\n",
    "#plt.savefig('ma_h.eps')\n",
    "\n",
    "plt.show()\n"
   ]
  },
  {
   "cell_type": "code",
   "execution_count": 9,
   "metadata": {
    "collapsed": false
   },
   "outputs": [
    {
     "data": {
      "image/png": "[encoded data removed]",
      "text/plain": [
       "<matplotlib.figure.Figure at 0x1055a8290>"
      ]
     },
     "metadata": {},
     "output_type": "display_data"
    }
   ],
   "source": [
    "plt.figure()\n",
    "plt.plot(kT, Energy, 'ks')\n",
    "\n",
    "plt.rc('text', usetex=True)\n",
    "plt.rc('font', family='serif')\n",
    "\n",
    "#plt.title(\"Average spin site energy versus temperature\")\n",
    "plt.xlabel(\"$T$ $[J/k_B]$\")\n",
    "plt.ylabel(\"$U$ $[J]$\")\n",
    "plt.grid()\n",
    "#plt.savefig('av_erg_black_try_square.eps')\n",
    "\n",
    "plt.show()"
   ]
  },
  {
   "cell_type": "code",
   "execution_count": 15,
   "metadata": {
    "collapsed": false
   },
   "outputs": [
    {
     "data": {
      "image/png": "[encoded data removed]",
      "text/plain": [
       "<matplotlib.figure.Figure at 0x1059d2b90>"
      ]
     },
     "metadata": {},
     "output_type": "display_data"
    }
   ],
   "source": [
    "plt.figure()\n",
    "plt.plot(kT, susceptibility, 'ks')\n",
    "\n",
    "plt.rc('text', usetex=True)\n",
    "plt.rc('font', family='serif')\n",
    "\n",
    "#plt.title(\"Average susceptibility versus temperature\")\n",
    "plt.xlabel(\"$T$ $[J/k_B]$\")\n",
    "plt.ylabel(\"$\\chi$ $[\\mu/ k_B]$\")\n",
    "\n",
    "if J == 1.0:\n",
    "    #see if theory matches results (Onsager, 1944)\n",
    "    plt.axvline(2.269, color ='r',linestyle='dashed', label=\"$T_c^{theory} = 2.269$ $[J/k_B]$\")\n",
    "    plt.legend()\n",
    "\n",
    "plt.grid()\n",
    "#plt.savefig('av_suscpt_square.eps')\n",
    "\n",
    "plt.show()"
   ]
  },
  {
   "cell_type": "code",
   "execution_count": 16,
   "metadata": {
    "collapsed": false,
    "scrolled": true
   },
   "outputs": [
    {
     "data": {
      "image/png": "[encoded data removed]",
      "text/plain": [
       "<matplotlib.figure.Figure at 0x105fcb5d0>"
      ]
     },
     "metadata": {},
     "output_type": "display_data"
    }
   ],
   "source": [
    "plt.figure()\n",
    "plt.plot(kT, specific_heat, 'ks')\n",
    "\n",
    "plt.rc('text', usetex=True)\n",
    "plt.rc('font', family='serif')\n",
    "\n",
    "#plt.title(\"Average specific heat versus temperature\")\n",
    "plt.xlabel(\"$T$ $[J/k_B$]\")\n",
    "plt.ylabel(\"$C_V$ $[J/_B^2]$\")\n",
    "\n",
    "if J == 1.0:\n",
    "    #see if theory matches results (Onsager, 1944)\n",
    "    plt.axvline(2.269, color ='r',linestyle='dashed', label=\"$T_c^{theory} = 2.269$ $[J/k_B]$\")\n",
    "    plt.legend()\n",
    "\n",
    "plt.grid()\n",
    "#plt.savefig('av_C_square.eps')\n",
    "\n",
    "plt.show()"
   ]
  },
  {
   "cell_type": "code",
   "execution_count": 5,
   "metadata": {
    "collapsed": false
   },
   "outputs": [
    {
     "name": "stdout",
     "output_type": "stream",
     "text": [
      "Initial random spin configuration\n"
     ]
    },
    {
     "data": {
      "image/png": "[encoded data removed]",
      "text/plain": [
       "<matplotlib.figure.Figure at 0x1057b96d0>"
      ]
     },
     "metadata": {},
     "output_type": "display_data"
    },
    {
     "name": "stdout",
     "output_type": "stream",
     "text": [
      "Temperature = 0.300000\n"
     ]
    },
    {
     "data": {
      "image/png": "[encoded data removed]",
      "text/plain": [
       "<matplotlib.figure.Figure at 0x104177910>"
      ]
     },
     "metadata": {},
     "output_type": "display_data"
    },
    {
     "name": "stdout",
     "output_type": "stream",
     "text": [
      "Temperature = 2.269000\n"
     ]
    },
    {
     "data": {
      "image/png": "[encoded data removed]",
      "text/plain": [
       "<matplotlib.figure.Figure at 0x105c4ebd0>"
      ]
     },
     "metadata": {},
     "output_type": "display_data"
    },
    {
     "name": "stdout",
     "output_type": "stream",
     "text": [
      "Temperature = 3.000000\n"
     ]
    },
    {
     "data": {
      "image/png": "[encoded data removed]",
      "text/plain": [
       "<matplotlib.figure.Figure at 0x105e149d0>"
      ]
     },
     "metadata": {},
     "output_type": "display_data"
    }
   ],
   "source": [
    "#show change of regime \n",
    "T = [0.3, 2.269, 3.0]  #showcase para/ferro-magnetic spin configuration\n",
    "\n",
    "model_phase = IsingClass.Ising(50, 1.0, 0)\n",
    "\n",
    "print \"Initial random spin configuration\"\n",
    "lattice = model_phase.spin_config()\n",
    "model_phase.lattice_plt(lattice)\n",
    "for t in T:\n",
    "    for q in range(801):\n",
    "        \n",
    "        model_phase.metropolis(lattice, t)\n",
    "        \n",
    "        if q == 800:\n",
    "            print \"Temperature = %f\" %t\n",
    "            model_phase.lattice_plt(lattice)   "
   ]
  },
  {
   "cell_type": "code",
   "execution_count": null,
   "metadata": {
    "collapsed": true
   },
   "outputs": [],
   "source": []
  }
 ],
 "metadata": {
  "kernelspec": {
   "display_name": "Python 2",
   "language": "python",
   "name": "python2"
  },
  "language_info": {
   "codemirror_mode": {
    "name": "ipython",
    "version": 2
   },
   "file_extension": ".py",
   "mimetype": "text/x-python",
   "name": "python",
   "nbconvert_exporter": "python",
   "pygments_lexer": "ipython2",
   "version": "2.7.10"
  }
 },
 "nbformat": 4,
 "nbformat_minor": 0
}
